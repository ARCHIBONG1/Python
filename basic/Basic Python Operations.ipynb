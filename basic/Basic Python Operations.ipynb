{
 "cells": [
  {
   "cell_type": "markdown",
   "id": "f1afe9b0",
   "metadata": {},
   "source": [
    "# Basic Python Operations\n",
    "\n",
    "This notebook presents a comprehensive review of basic python concepts"
   ]
  },
  {
   "cell_type": "markdown",
   "id": "5042465d",
   "metadata": {},
   "source": [
    "## Table of Contents\n",
    "<li><a href=\"#Dict\">Dictionaries<a></li>\n",
    "<li><a href=\"#Tuple\">Tuples<a></li>\n",
    "<li><a href=\"#Set\">Sets<a></li>\n",
    "<li><a href=\"#Bool\">Comparison Operators<a></li>\n",
    "<li><a href=\"#Logic\">Logical Operators<a></li>\n",
    "<li><a href=\"#control\"> Control Flow <a></li>"
   ]
  },
  {
   "cell_type": "markdown",
   "id": "6888994b",
   "metadata": {},
   "source": [
    "\n"
   ]
  },
  {
   "cell_type": "markdown",
   "id": "97684300",
   "metadata": {},
   "source": [
    "<a id=\"Dict\"></a>\n",
    "### Dictionaries\n",
    "Using Keys and indexing grab the \"Hello\" from the dictionaries"
   ]
  },
  {
   "cell_type": "code",
   "execution_count": 1,
   "id": "38728c8a",
   "metadata": {},
   "outputs": [],
   "source": [
    "d = {'simple_key':'hello'}"
   ]
  },
  {
   "cell_type": "code",
   "execution_count": 4,
   "id": "772c6ed1",
   "metadata": {},
   "outputs": [
    {
     "data": {
      "text/plain": [
       "'hello'"
      ]
     },
     "execution_count": 4,
     "metadata": {},
     "output_type": "execute_result"
    }
   ],
   "source": [
    "# Grab 'hello'\n",
    "d[\"simple_key\"]"
   ]
  },
  {
   "cell_type": "code",
   "execution_count": 5,
   "id": "1e0bb205",
   "metadata": {},
   "outputs": [],
   "source": [
    "d = {'k1':{'k2':'hello'}}\n",
    "# Grab 'hello'"
   ]
  },
  {
   "cell_type": "code",
   "execution_count": 6,
   "id": "9f022cef",
   "metadata": {},
   "outputs": [
    {
     "data": {
      "text/plain": [
       "'hello'"
      ]
     },
     "execution_count": 6,
     "metadata": {},
     "output_type": "execute_result"
    }
   ],
   "source": [
    "d[\"k1\"][\"k2\"]"
   ]
  },
  {
   "cell_type": "code",
   "execution_count": 7,
   "id": "a55bacd1",
   "metadata": {},
   "outputs": [],
   "source": [
    "# Getting a little tricker\n",
    "d = {'k1':[{'nest_key':['this is deep',['hello']]}]}\n",
    "\n",
    "#Grab hello"
   ]
  },
  {
   "cell_type": "code",
   "execution_count": 9,
   "id": "8303eeb2",
   "metadata": {},
   "outputs": [
    {
     "data": {
      "text/plain": [
       "'hello'"
      ]
     },
     "execution_count": 9,
     "metadata": {},
     "output_type": "execute_result"
    }
   ],
   "source": [
    "d[\"k1\"][0][\"nest_key\"][1][0]"
   ]
  },
  {
   "cell_type": "markdown",
   "id": "c6928d9d",
   "metadata": {},
   "source": [
    "Question: \n",
    "\n",
    "Can you sort a dictionary? Why or why not?"
   ]
  },
  {
   "cell_type": "markdown",
   "id": "5efb3a9a",
   "metadata": {},
   "source": [
    "A dictionary cannot be sorted because all dictionaries are mappings and not sequences"
   ]
  },
  {
   "cell_type": "markdown",
   "id": "627698bb",
   "metadata": {},
   "source": [
    "<a id=\"Tuple\"></a>\n",
    "### Tuple"
   ]
  },
  {
   "cell_type": "markdown",
   "id": "42a8ad15",
   "metadata": {},
   "source": [
    "Question:\n",
    "\n",
    "What is the major difference between tuples and lists?\n",
    "How do you create a tuple?"
   ]
  },
  {
   "cell_type": "markdown",
   "id": "53ab5087",
   "metadata": {},
   "source": [
    "The Major difference between a Tuple and a list is that while a list is mutable a Tuple is not.\n",
    "Tuples are created using Parenthesis \"()\". See example below"
   ]
  },
  {
   "cell_type": "code",
   "execution_count": 10,
   "id": "c03f5ebc",
   "metadata": {},
   "outputs": [],
   "source": [
    "t = (2,3,4,5)"
   ]
  },
  {
   "cell_type": "markdown",
   "id": "33a40fc3",
   "metadata": {},
   "source": [
    "<a id=\"Set\"></a>\n",
    "### Sets"
   ]
  },
  {
   "cell_type": "markdown",
   "id": "84e87fa8",
   "metadata": {},
   "source": [
    "Question:\n",
    "What is unique about a set?"
   ]
  },
  {
   "cell_type": "markdown",
   "id": "d964aa09",
   "metadata": {},
   "source": [
    "What makes a set unique, is that it can only jold unique elements, and subsequent repetitions are ignored"
   ]
  },
  {
   "cell_type": "code",
   "execution_count": 13,
   "id": "84638cfe",
   "metadata": {},
   "outputs": [],
   "source": [
    "# To demonstrate the uniqueness of sets\n",
    "\n",
    "list5 = [1,2,2,33,4,4,11,22,3,3,2]"
   ]
  },
  {
   "cell_type": "code",
   "execution_count": 14,
   "id": "9738cf8d",
   "metadata": {},
   "outputs": [
    {
     "data": {
      "text/plain": [
       "{1, 2, 3, 4, 11, 22, 33}"
      ]
     },
     "execution_count": 14,
     "metadata": {},
     "output_type": "execute_result"
    }
   ],
   "source": [
    "set(list5) # Employs the use of the Set() function"
   ]
  },
  {
   "cell_type": "markdown",
   "id": "06f06d17",
   "metadata": {},
   "source": [
    "<a id=\"Bool\"></a>\n",
    "### Comparison Operators"
   ]
  },
  {
   "cell_type": "code",
   "execution_count": 15,
   "id": "61d79abc",
   "metadata": {},
   "outputs": [
    {
     "data": {
      "text/plain": [
       "True"
      ]
     },
     "execution_count": 15,
     "metadata": {},
     "output_type": "execute_result"
    }
   ],
   "source": [
    "# Equal to \"==\"\n",
    "2 == 2"
   ]
  },
  {
   "cell_type": "code",
   "execution_count": 26,
   "id": "b88e3433",
   "metadata": {},
   "outputs": [
    {
     "data": {
      "text/plain": [
       "False"
      ]
     },
     "execution_count": 26,
     "metadata": {},
     "output_type": "execute_result"
    }
   ],
   "source": [
    "# When comparing strings, capitalisation counts\n",
    "\n",
    "\"Boy\" == \"boy\""
   ]
  },
  {
   "cell_type": "code",
   "execution_count": 29,
   "id": "9516d9b8",
   "metadata": {},
   "outputs": [
    {
     "data": {
      "text/plain": [
       "False"
      ]
     },
     "execution_count": 29,
     "metadata": {},
     "output_type": "execute_result"
    }
   ],
   "source": [
    "# During comparison, data structure type also counts\n",
    "\"2\" == 2   # First data is a string, second an integer "
   ]
  },
  {
   "cell_type": "code",
   "execution_count": 17,
   "id": "d29b3783",
   "metadata": {},
   "outputs": [
    {
     "data": {
      "text/plain": [
       "False"
      ]
     },
     "execution_count": 17,
     "metadata": {},
     "output_type": "execute_result"
    }
   ],
   "source": [
    "# Not equal to \"!=\"\n",
    "\n",
    "2 == 3"
   ]
  },
  {
   "cell_type": "code",
   "execution_count": 18,
   "id": "e43076f2",
   "metadata": {},
   "outputs": [
    {
     "data": {
      "text/plain": [
       "True"
      ]
     },
     "execution_count": 18,
     "metadata": {},
     "output_type": "execute_result"
    }
   ],
   "source": [
    "2 != 3"
   ]
  },
  {
   "cell_type": "code",
   "execution_count": 20,
   "id": "6179b5aa",
   "metadata": {},
   "outputs": [
    {
     "data": {
      "text/plain": [
       "False"
      ]
     },
     "execution_count": 20,
     "metadata": {},
     "output_type": "execute_result"
    }
   ],
   "source": [
    "# Greater than or Less than \"> or <\"\n",
    "2 > 3 # is 2 greater than 3?"
   ]
  },
  {
   "cell_type": "code",
   "execution_count": 21,
   "id": "94a550b3",
   "metadata": {},
   "outputs": [
    {
     "data": {
      "text/plain": [
       "True"
      ]
     },
     "execution_count": 21,
     "metadata": {},
     "output_type": "execute_result"
    }
   ],
   "source": [
    "2 < 3 # Is 2 less than 4?"
   ]
  },
  {
   "cell_type": "code",
   "execution_count": 22,
   "id": "255f5243",
   "metadata": {},
   "outputs": [
    {
     "data": {
      "text/plain": [
       "False"
      ]
     },
     "execution_count": 22,
     "metadata": {},
     "output_type": "execute_result"
    }
   ],
   "source": [
    "# Greater than or equal to \">=\"; less than or equal to \"<=\"\n",
    "\n",
    "2 >= 3       #Is 2 greater than or equal to 3?"
   ]
  },
  {
   "cell_type": "code",
   "execution_count": 23,
   "id": "16c574b5",
   "metadata": {},
   "outputs": [
    {
     "data": {
      "text/plain": [
       "True"
      ]
     },
     "execution_count": 23,
     "metadata": {},
     "output_type": "execute_result"
    }
   ],
   "source": [
    "2 <= 3      # is 2 less than or equal to 3?"
   ]
  },
  {
   "cell_type": "markdown",
   "id": "42235f02",
   "metadata": {},
   "source": [
    "Question:\n",
    "\n",
    "What is the boolean output of the cell below?"
   ]
  },
  {
   "cell_type": "code",
   "execution_count": 25,
   "id": "074a300c",
   "metadata": {},
   "outputs": [
    {
     "data": {
      "text/plain": [
       "False"
      ]
     },
     "execution_count": 25,
     "metadata": {},
     "output_type": "execute_result"
    }
   ],
   "source": [
    "\n",
    "# two nested lists\n",
    "l_one = [1,2,[3,4]]\n",
    "l_two = [1,2,{'k1':4}]\n",
    "\n",
    "# True or False?\n",
    "l_one[2][0] >= l_two[2]['k1']"
   ]
  },
  {
   "cell_type": "markdown",
   "id": "9e9e2eab",
   "metadata": {},
   "source": [
    "Explanation:\n",
    "\n",
    "l_one[2][0] == 3\n",
    "\n",
    "l_two[2]['k1'] == 4"
   ]
  },
  {
   "cell_type": "code",
   "execution_count": 39,
   "id": "2dfcb612",
   "metadata": {},
   "outputs": [
    {
     "data": {
      "text/plain": [
       "True"
      ]
     },
     "execution_count": 39,
     "metadata": {},
     "output_type": "execute_result"
    }
   ],
   "source": [
    "2 <= 3 >= 1     # The best way to comprehend this is (2<=3) and (3>=1). This expression illustrates the need for logical operators"
   ]
  },
  {
   "cell_type": "markdown",
   "id": "6dd6cf16",
   "metadata": {},
   "source": [
    "<a id=\"Logic\"></a>\n",
    "### Logical Operators\n",
    "\n",
    "These allow us to combine comparison operators and they include \"AND\", \"OR\" and \"NOT\""
   ]
  },
  {
   "cell_type": "code",
   "execution_count": 35,
   "id": "7938c642",
   "metadata": {},
   "outputs": [
    {
     "data": {
      "text/plain": [
       "False"
      ]
     },
     "execution_count": 35,
     "metadata": {},
     "output_type": "execute_result"
    }
   ],
   "source": [
    "2 > 3 and 1 != 4      # The logical operator AND chains these two comparison together. Requires both condition to be true"
   ]
  },
  {
   "cell_type": "code",
   "execution_count": 32,
   "id": "51b19c45",
   "metadata": {},
   "outputs": [
    {
     "data": {
      "text/plain": [
       "True"
      ]
     },
     "execution_count": 32,
     "metadata": {},
     "output_type": "execute_result"
    }
   ],
   "source": [
    "(10 > 3) and (1 != 4)"
   ]
  },
  {
   "cell_type": "code",
   "execution_count": 36,
   "id": "f1378a1f",
   "metadata": {},
   "outputs": [
    {
     "data": {
      "text/plain": [
       "True"
      ]
     },
     "execution_count": 36,
     "metadata": {},
     "output_type": "execute_result"
    }
   ],
   "source": [
    "(2 > 3) or (1 != 4)     # Queries if the first or the second section is true. Requires at least one section to b true"
   ]
  },
  {
   "cell_type": "code",
   "execution_count": 38,
   "id": "54cb6c31",
   "metadata": {},
   "outputs": [
    {
     "data": {
      "text/plain": [
       "True"
      ]
     },
     "execution_count": 38,
     "metadata": {},
     "output_type": "execute_result"
    }
   ],
   "source": [
    "not 4 == 1   # compares both"
   ]
  },
  {
   "cell_type": "markdown",
   "id": "c9548bca",
   "metadata": {},
   "source": [
    "<a id=\"control\"></a>\n",
    "### Control Flow\n",
    "\n",
    "This allows us to employ logic in creating loops using different python statements. These control flow statements make use of colon and indentation (whitespace) as will be demonstrated below\n",
    "\n",
    "#### \"If\", \"Else\" and \"Elif\""
   ]
  },
  {
   "cell_type": "code",
   "execution_count": 42,
   "id": "e881caa5",
   "metadata": {},
   "outputs": [
    {
     "name": "stdout",
     "output_type": "stream",
     "text": [
      "True\n"
     ]
    }
   ],
   "source": [
    "if 3 > 2:\n",
    "    print(\"True\")"
   ]
  },
  {
   "cell_type": "code",
   "execution_count": 45,
   "id": "73d15128",
   "metadata": {},
   "outputs": [
    {
     "name": "stdout",
     "output_type": "stream",
     "text": [
      "6\n"
     ]
    }
   ],
   "source": [
    "if 3 > 2:\n",
    "    print (3 * 2)\n",
    "else:\n",
    "    print(\"Not Applicable\")"
   ]
  },
  {
   "cell_type": "code",
   "execution_count": 46,
   "id": "3f5af3be",
   "metadata": {},
   "outputs": [
    {
     "name": "stdout",
     "output_type": "stream",
     "text": [
      "Not Applicable\n"
     ]
    }
   ],
   "source": [
    "if 1 > 2:\n",
    "    print (3 * 2)\n",
    "else:\n",
    "    print(\"Not Applicable\")"
   ]
  },
  {
   "cell_type": "code",
   "execution_count": 70,
   "id": "b383b639",
   "metadata": {},
   "outputs": [
    {
     "name": "stdout",
     "output_type": "stream",
     "text": [
      "Please input your name: Archibong\n",
      "Your name is: Archibong\n"
     ]
    }
   ],
   "source": [
    "# Creating a name question and answer session using the if, elif and else\n",
    "\n",
    "user_name = input(\"Please input your name: \")  # request user to input their name\n",
    "if user_name == \"Archibong\":                   # calls on the if statement given the condition user_name == \"Archibong\" has been met    \n",
    "    print(f\"Your name is: {user_name}\")\n",
    "else:                                          # Calls on the else statement given that the condition was not met\n",
    "    print(\"Please have your name added. Good bye. \")\n",
    "    "
   ]
  },
  {
   "cell_type": "code",
   "execution_count": 73,
   "id": "8239a6be",
   "metadata": {},
   "outputs": [
    {
     "name": "stdout",
     "output_type": "stream",
     "text": [
      "Please input your name: Goodluck\n",
      " Goodluck please have your name added. Good bye. \n"
     ]
    }
   ],
   "source": [
    "# Creating a name question and answer session using the if, elif and else\n",
    "\n",
    "user_name = input(\"Please input your name: \")  # request user to input their name\n",
    "if user_name == \"Archibong\":                   # calls on the if statement given the condition user_name == \"Archibong\" has been met    \n",
    "    print(f\"Your name is: {user_name}\")\n",
    "else:                                          # Calls on the else statement given that the condition was not met\n",
    "    print(f\" {user_name} please have your name added. Good bye. \")"
   ]
  },
  {
   "cell_type": "code",
   "execution_count": 75,
   "id": "6af63bac",
   "metadata": {},
   "outputs": [],
   "source": [
    "# For loops\n",
    "# The control flow statements allow us to create iterable loops within python\n"
   ]
  },
  {
   "cell_type": "code",
   "execution_count": 76,
   "id": "666a5346",
   "metadata": {},
   "outputs": [
    {
     "name": "stdout",
     "output_type": "stream",
     "text": [
      "A\n",
      "R\n",
      "c\n",
      "H\n",
      "I\n",
      "B\n",
      "O\n",
      "N\n",
      "G\n"
     ]
    }
   ],
   "source": [
    "name = \"ARcHIBONG\"   # Declares a predefined string\n",
    "\n",
    "for iteration in name: # calls the for statement, saved on a temporary placeholder called iteration\n",
    "    print(iteration)"
   ]
  },
  {
   "cell_type": "code",
   "execution_count": 77,
   "id": "6618cac9",
   "metadata": {},
   "outputs": [
    {
     "name": "stdout",
     "output_type": "stream",
     "text": [
      "Goodluck\n",
      "Goodluck\n",
      "Goodluck\n",
      "Goodluck\n",
      "Goodluck\n",
      "Goodluck\n",
      "Goodluck\n",
      "Goodluck\n",
      "Goodluck\n"
     ]
    }
   ],
   "source": [
    "# if a diffeent value data from the placeholder value is provided, it loop over the provided value\n",
    "\n",
    "for iteration in name: # calls the for statement, saved on a temporary placeholder called iteration\n",
    "    print(\"Goodluck\")  # different data from placeholder iteration"
   ]
  },
  {
   "cell_type": "code",
   "execution_count": 78,
   "id": "da2d6084",
   "metadata": {},
   "outputs": [
    {
     "name": "stdout",
     "output_type": "stream",
     "text": [
      "This number 1, is an odd number\n",
      "2\n",
      "This number 3, is an odd number\n",
      "4\n",
      "This number 5, is an odd number\n",
      "6\n",
      "6\n",
      "8\n",
      "This number 9, is an odd number\n",
      "0\n",
      "0\n",
      "This number 11, is an odd number\n"
     ]
    }
   ],
   "source": [
    "num = [1,2,3,4,5,6,6,8,9,0,0,11]   #declares a list of numbers\n",
    "for num_place in num:\n",
    "    if num_place % 2 == 0:         # Combines an inner if statement within\n",
    "        print(num_place)\n",
    "    else:\n",
    "        print(f\"This number {num_place}, is an odd number\")\n"
   ]
  },
  {
   "cell_type": "code",
   "execution_count": 80,
   "id": "33cd117c",
   "metadata": {},
   "outputs": [
    {
     "name": "stdout",
     "output_type": "stream",
     "text": [
      "(2, 3, 2)\n",
      "(33, 5, 33)\n",
      "(3, 2)\n",
      "(8, 7, 432, 2, 4)\n"
     ]
    }
   ],
   "source": [
    "# Tuple unpacking using the for loop\n",
    "\n",
    "t = [(2,3,2), (33,5,33), (3,2), (8,7,432,2,4)]     # Declares a tuple within a list\n",
    "for _ in t:\n",
    "    print(_)    # Unpacks the tuple contained within the list"
   ]
  },
  {
   "cell_type": "code",
   "execution_count": 85,
   "id": "bd9787cc",
   "metadata": {},
   "outputs": [
    {
     "name": "stdout",
     "output_type": "stream",
     "text": [
      "2\n",
      "33\n",
      "3\n",
      "8\n"
     ]
    }
   ],
   "source": [
    "# A different demonstration of Tuple unpacking using the for loop\n",
    "\n",
    "t = [(2,3), (33,33), (3,2), (8,4)]     # Declares a tuple within a list\n",
    "for (a,b) in t:\n",
    "    print(a)    # Unpacks the tuple contained within the list"
   ]
  },
  {
   "cell_type": "code",
   "execution_count": 87,
   "id": "998d1c5c",
   "metadata": {},
   "outputs": [
    {
     "name": "stdout",
     "output_type": "stream",
     "text": [
      "k1\n",
      "k2\n",
      "k3\n"
     ]
    }
   ],
   "source": [
    "# iterating through a dictionary\n",
    "\n",
    "d = {\"k1\":5, \"k2\":8, \"k3\": 4}\n",
    "for items in d:\n",
    "    print(items)   # Only returns the keys, but not the values"
   ]
  },
  {
   "cell_type": "code",
   "execution_count": 89,
   "id": "fb058ed8",
   "metadata": {},
   "outputs": [
    {
     "name": "stdout",
     "output_type": "stream",
     "text": [
      "('k1', 5)\n",
      "('k2', 8)\n",
      "('k3', 4)\n"
     ]
    }
   ],
   "source": [
    "for items in d.items():   #calls the .item method to enable us iterate through the values and keys\n",
    "    print(items)          # prints the key value pair as a tuple"
   ]
  },
  {
   "cell_type": "code",
   "execution_count": null,
   "id": "130460e4",
   "metadata": {},
   "outputs": [],
   "source": []
  }
 ],
 "metadata": {
  "kernelspec": {
   "display_name": "Python 3 (ipykernel)",
   "language": "python",
   "name": "python3"
  },
  "language_info": {
   "codemirror_mode": {
    "name": "ipython",
    "version": 3
   },
   "file_extension": ".py",
   "mimetype": "text/x-python",
   "name": "python",
   "nbconvert_exporter": "python",
   "pygments_lexer": "ipython3",
   "version": "3.9.7"
  }
 },
 "nbformat": 4,
 "nbformat_minor": 5
}
